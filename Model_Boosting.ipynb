{
 "cells": [
  {
   "cell_type": "code",
   "execution_count": 1,
   "metadata": {
    "collapsed": true
   },
   "outputs": [],
   "source": [
    "import pandas as pd\n",
    "import numpy as np\n",
    "import scipy\n",
    "import matplotlib.pyplot as plt\n",
    "%matplotlib inline\n",
    "\n",
    "from sklearn import ensemble\n",
    "from sklearn import datasets\n",
    "from sklearn.utils import shuffle\n",
    "from sklearn.metrics import mean_squared_error"
   ]
  },
  {
   "cell_type": "code",
   "execution_count": 81,
   "metadata": {
    "collapsed": true
   },
   "outputs": [],
   "source": [
    "df = pd.read_csv((\n",
    "    \"https://raw.githubusercontent.com/Thinkful-Ed/data-201-resources/\"\n",
    "    \"master/ESS_practice_data/ESSdata_Thinkful.csv\")).dropna()\n",
    "\n",
    "y = df['partner'] - 1\n",
    "X = df.loc[:, ~df.columns.isin(['partner', 'cntry', 'idno'])]\n",
    "X = pd.concat([X, pd.get_dummies(df['cntry'])], axis=1)\n",
    "offset = int(X.shape[0] * 0.7)\n",
    "X_train, y_train = X[:offset], y[:offset]\n",
    "X_test, y_test = X[offset:], y[offset:]"
   ]
  },
  {
   "cell_type": "code",
   "execution_count": 82,
   "metadata": {
    "collapsed": true
   },
   "outputs": [],
   "source": [
    "# MOAR FEATURES\n",
    "new_features_df = pd.DataFrame()\n",
    "new_features_df['Senior'] = np.where(df['agea']>=65, 1, 0)\n",
    "means = df[['ppltrst','pplfair','pplhlp']].mean(axis=0)\n",
    "stds = df[['ppltrst','pplfair','pplhlp']].std(axis=0)\n",
    "new_features_df['trust_fair_help'] = ((df[['ppltrst','pplfair','pplhlp']] - means) / stds).mean(axis=1)\n",
    "new_features_df['tvtot'] = df['tvtot']\n",
    "new_features_df['school_meet_happy'] = df['happy'] * df['sclmeet']\n",
    "new_features_df['activity_happy'] = df['sclact'] * df['happy']"
   ]
  },
  {
   "cell_type": "code",
   "execution_count": 90,
   "metadata": {
    "collapsed": true
   },
   "outputs": [],
   "source": [
    "df['school_meet_happy'] = df['happy'] * df['sclmeet']\n",
    "df['activity_happy'] = df['sclact'] * df['happy']\n",
    "df['trust_fair_help'] = ((df[['ppltrst','pplfair','pplhlp']] - means) / stds).mean(axis=1)\n",
    "df['Senior'] = np.where(df['agea']>=65, 1, 0)\n"
   ]
  },
  {
   "cell_type": "code",
   "execution_count": 83,
   "metadata": {
    "collapsed": true
   },
   "outputs": [],
   "source": [
    "new_X = new_features_df"
   ]
  },
  {
   "cell_type": "code",
   "execution_count": 91,
   "metadata": {
    "collapsed": true
   },
   "outputs": [],
   "source": [
    "new_X_train, new_y_train = X[:offset], y[:offset]\n",
    "new_X_test, new_y_test = X[offset:], y[offset:]"
   ]
  },
  {
   "cell_type": "code",
   "execution_count": 59,
   "metadata": {
    "collapsed": true
   },
   "outputs": [],
   "source": [
    "newer_X.fillna(method='ffill', inplace=True)"
   ]
  },
  {
   "cell_type": "code",
   "execution_count": 55,
   "metadata": {
    "collapsed": true
   },
   "outputs": [],
   "source": [
    "newer_X = pd.concat([new_X, X], axis=1)"
   ]
  },
  {
   "cell_type": "code",
   "execution_count": 92,
   "metadata": {},
   "outputs": [
    {
     "name": "stdout",
     "output_type": "stream",
     "text": [
      "Training set accuracy:\n",
      "Percent Type I errors: 0.01175026306559102\n",
      "Percent Type II errors: 0.07944580848824974\n",
      "\n",
      "Test set accuracy:\n",
      "Percent Type I errors: 0.08588957055214724\n",
      "Percent Type II errors: 0.18691206543967281\n"
     ]
    }
   ],
   "source": [
    "params = {'n_estimators': 800,\n",
    "          'max_depth': 4,\n",
    "          'loss': 'deviance'}\n",
    "\n",
    "# Initialize and fit the model.\n",
    "clf = ensemble.GradientBoostingClassifier(**params)\n",
    "clf.fit(new_X_train, new_y_train)\n",
    "\n",
    "predict_train = clf.predict(new_X_train)\n",
    "predict_test = clf.predict(new_X_test)\n",
    "\n",
    "# Accuracy tables.\n",
    "table_train = pd.crosstab(new_y_train, predict_train, margins=True)\n",
    "table_test = pd.crosstab(new_y_test, predict_test, margins=True)\n",
    "\n",
    "train_tI_errors = table_train.loc[0.0,1.0] / table_train.loc['All','All']\n",
    "train_tII_errors = table_train.loc[1.0,0.0] / table_train.loc['All','All']\n",
    "\n",
    "test_tI_errors = table_test.loc[0.0,1.0]/table_test.loc['All','All']\n",
    "test_tII_errors = table_test.loc[1.0,0.0]/table_test.loc['All','All']\n",
    "\n",
    "print((\n",
    "    'Training set accuracy:\\n'\n",
    "    'Percent Type I errors: {}\\n'\n",
    "    'Percent Type II errors: {}\\n\\n'\n",
    "    'Test set accuracy:\\n'\n",
    "    'Percent Type I errors: {}\\n'\n",
    "    'Percent Type II errors: {}'\n",
    ").format(train_tI_errors, train_tII_errors, test_tI_errors, test_tII_errors))\n"
   ]
  },
  {
   "cell_type": "code",
   "execution_count": 93,
   "metadata": {},
   "outputs": [
    {
     "data": {
      "image/png": "[encoded data removed]",
      "text/plain": [
       "<matplotlib.figure.Figure at 0x11052d940>"
      ]
     },
     "metadata": {},
     "output_type": "display_data"
    }
   ],
   "source": [
    "feature_importance = clf.feature_importances_\n",
    "\n",
    "# Make importances relative to max importance.\n",
    "feature_importance = 100.0 * (feature_importance / feature_importance.max())\n",
    "sorted_idx = np.argsort(feature_importance)\n",
    "pos = np.arange(sorted_idx.shape[0]) + .5\n",
    "plt.subplot(1, 2, 2)\n",
    "plt.barh(pos, feature_importance[sorted_idx], align='center')\n",
    "plt.yticks(pos, X.columns[sorted_idx])\n",
    "plt.xlabel('Relative Importance')\n",
    "plt.title('Variable Importance')\n",
    "plt.show()"
   ]
  },
  {
   "cell_type": "code",
   "execution_count": null,
   "metadata": {
    "collapsed": true
   },
   "outputs": [],
   "source": []
  },
  {
   "cell_type": "markdown",
   "metadata": {},
   "source": [
    "# Challenge questions"
   ]
  },
  {
   "cell_type": "markdown",
   "metadata": {},
   "source": [
    "## Questions\n",
    "- Predict the running times of prospective Olympic sprinters using data from the last 20 Olympics.\n",
    "   - Linear Regression, for predicting the continuous variable of running times.\n",
    "- You have more features (columns) than rows in your dataset.\n",
    "   - Lasso Regression, using the built in optimiation to reduce the features to only those that influence the outcome.\n",
    "- Identify the most important characteristic predicting likelihood of being jailed before age 20.\n",
    "   - Logistic Regression, comparing the different odds predictions to identify the most influential variable.\n",
    "- Implement a filter to “highlight” emails that might be important to the recipient\n",
    "   - Naive Bayes filter using positive words instead of negative. \n",
    "- You have 1000+ features.\n",
    "   - Lasso Regression, for its embedded feature reduction qualities.\n",
    "- Predict whether someone who adds items to their cart on a website will purchase the items.\n",
    "   - Funnel analysis, using Logistic Regression to predict customer behavior in each step.\n",
    "- Your dataset dimensions are 982400 x 500\n",
    "   - Linear Regression, watching for multicolinearity, or Lasso Regression for its built in feature reduction.\n",
    "- Identify faces in an image.\n",
    "   - Random Forest classifier, although deep learning work best for this now.\n",
    "- Predict which of three flavors of ice cream will be most popular with boys vs girls.\n",
    "   - KNN Classifier works best when distinguishing between multiple categories."
   ]
  },
  {
   "cell_type": "code",
   "execution_count": null,
   "metadata": {
    "collapsed": true
   },
   "outputs": [],
   "source": []
  },
  {
   "cell_type": "code",
   "execution_count": null,
   "metadata": {
    "collapsed": true
   },
   "outputs": [],
   "source": []
  }
 ],
 "metadata": {
  "kernelspec": {
   "display_name": "Python 3",
   "language": "python",
   "name": "python3"
  },
  "language_info": {
   "codemirror_mode": {
    "name": "ipython",
    "version": 3
   },
   "file_extension": ".py",
   "mimetype": "text/x-python",
   "name": "python",
   "nbconvert_exporter": "python",
   "pygments_lexer": "ipython3",
   "version": "3.6.1"
  }
 },
 "nbformat": 4,
 "nbformat_minor": 2
}
